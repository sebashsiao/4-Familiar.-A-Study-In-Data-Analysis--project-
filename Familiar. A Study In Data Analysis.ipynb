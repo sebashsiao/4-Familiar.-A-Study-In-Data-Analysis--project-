{
 "cells": [
  {
   "cell_type": "markdown",
   "id": "f2c3c235ef76ce92",
   "metadata": {
    "collapsed": false
   },
   "source": [
    "# Familiar: A Study In Data Analysis\n",
    "##### Codecademy | Analyze Data with Python | Hypothesis Testing with SciPy\n",
    "##### by Sebastian Hsiao\n",
    "***\n",
    "Welcome to Familiar, a startup in the new market of blood transfusion! You’ve joined the team because you appreciate the flexible hours and extremely intelligent team, but the overeager doorman welcoming you into the office is a nice way to start your workday (well, work-evening).\n",
    "\n",
    "Familiar has fallen into some tough times lately, so you’re hoping to help them make some insights about their product and help move the needle (so to speak).\n"
   ]
  },
  {
   "cell_type": "markdown",
   "id": "f87dd080c4ea80ef",
   "metadata": {
    "collapsed": false
   },
   "source": [
    "### What Can Familiar Do For You?\n",
    "**1.**\n",
    "We’re going to start by including a data interface that a previous software engineer wrote for you, it’s aptly titled `familiar`, so just import that."
   ]
  },
  {
   "cell_type": "code",
   "execution_count": 1,
   "id": "initial_id",
   "metadata": {
    "ExecuteTime": {
     "end_time": "2023-12-24T18:23:18.106714Z",
     "start_time": "2023-12-24T18:23:18.004807Z"
    },
    "collapsed": true
   },
   "outputs": [],
   "source": [
    "import familiar"
   ]
  },
  {
   "cell_type": "markdown",
   "id": "8ce6074bec19055f",
   "metadata": {
    "collapsed": false
   },
   "source": [
    "**2.**\n",
    "Perfect, now the first thing we want to show is that our most basic package, the Vein Pack, actually has a significant impact on the subscribers. It would be a marketing goldmine if we can show that subscribers to the Vein Pack live longer than other people.\n",
    "\n",
    "Lifespans of Vein Pack users are returned by the function `lifespans(package='vein')`, which is part of the `familiar` module. Call that function and save the data into a variable called `vein_pack_lifespans`."
   ]
  },
  {
   "cell_type": "code",
   "execution_count": 2,
   "id": "f64fe238fc61b0ca",
   "metadata": {
    "ExecuteTime": {
     "end_time": "2023-12-24T18:23:18.144048Z",
     "start_time": "2023-12-24T18:23:18.014146Z"
    },
    "collapsed": false
   },
   "outputs": [],
   "source": [
    "vein_pack_lifespans = familiar.lifespans(package='vein')\n",
    "vein_pack_lifespans;"
   ]
  },
  {
   "cell_type": "markdown",
   "id": "9ff63774bb9d8934",
   "metadata": {
    "collapsed": false
   },
   "source": [
    "**3.**\n",
    "We’d like to find out if the average lifespan of a Vein Pack subscriber is significantly different from the average life expectancy of `71` years.\n",
    "\n",
    "Import the statistical test we would use to determine if a sample comes from a population that has a given mean from `scipy.stats`."
   ]
  },
  {
   "cell_type": "code",
   "execution_count": 3,
   "id": "748e96a07632ee31",
   "metadata": {
    "ExecuteTime": {
     "end_time": "2023-12-24T18:23:18.658267Z",
     "start_time": "2023-12-24T18:23:18.144795Z"
    },
    "collapsed": false
   },
   "outputs": [],
   "source": [
    "from scipy.stats import ttest_1samp"
   ]
  },
  {
   "cell_type": "markdown",
   "id": "81d76274363f2b9d",
   "metadata": {
    "collapsed": false
   },
   "source": [
    "**4.**\n",
    "Now use the 1-Sample T-Test to compare `vein_pack_lifespans` to the average life expectancy `71`. Save the result into a variable called `vein_pack_test`."
   ]
  },
  {
   "cell_type": "code",
   "execution_count": 4,
   "id": "3d68c9eb1f449aee",
   "metadata": {
    "ExecuteTime": {
     "end_time": "2023-12-24T18:23:18.665501Z",
     "start_time": "2023-12-24T18:23:18.662144Z"
    },
    "collapsed": false
   },
   "outputs": [],
   "source": [
    "vein_pack_test = ttest_1samp(vein_pack_lifespans, 71)"
   ]
  },
  {
   "cell_type": "markdown",
   "id": "555dbc21a5bf705c",
   "metadata": {
    "collapsed": false
   },
   "source": [
    "**5.**\n",
    "Let’s check if the results are significant! Check the `pvalue` of `vein_pack_test`. If it’s less than 0.05, we’ve got significance!"
   ]
  },
  {
   "cell_type": "code",
   "execution_count": 5,
   "id": "ceba0b5e817ae441",
   "metadata": {
    "ExecuteTime": {
     "end_time": "2023-12-24T18:23:18.676475Z",
     "start_time": "2023-12-24T18:23:18.669555Z"
    },
    "collapsed": false
   },
   "outputs": [
    {
     "name": "stdout",
     "output_type": "stream",
     "text": [
      "TtestResult(statistic=11.958665180208271, pvalue=2.7463117986584107e-10, df=19)\n"
     ]
    }
   ],
   "source": [
    "print(vein_pack_test)"
   ]
  },
  {
   "cell_type": "markdown",
   "id": "d76f15dfd0d53bd6",
   "metadata": {
    "collapsed": false
   },
   "source": [
    "**6.**\n",
    "We want to present this information to the CEO, Vlad, of this incredible finding. Let’s print some information out! If the test’s p-value is less than 0.05, `print` “The Vein Pack Is Proven To Make You Live Longer!”. Otherwise `print` “The Vein Pack Is Probably Good For You Somehow!”"
   ]
  },
  {
   "cell_type": "code",
   "execution_count": 6,
   "id": "4ec8a158b471e998",
   "metadata": {
    "ExecuteTime": {
     "end_time": "2023-12-24T18:23:18.682239Z",
     "start_time": "2023-12-24T18:23:18.675113Z"
    },
    "collapsed": false
   },
   "outputs": [
    {
     "name": "stdout",
     "output_type": "stream",
     "text": [
      "The Vein Pack Is Proven To Make You Live Longer!\n"
     ]
    }
   ],
   "source": [
    "# print messages according to the p-value result.    # Threshold set to 5%\n",
    "if vein_pack_test[1] < 0.05:\n",
    "  print(\"The Vein Pack Is Proven To Make You Live Longer!\")\n",
    "else:\n",
    "  print(\"The Vein Pack Is Probably Good For You Somehow!\")"
   ]
  },
  {
   "cell_type": "markdown",
   "id": "505ca3005dc2f585",
   "metadata": {
    "collapsed": false
   },
   "source": [
    "**7.**\n",
    "In order to differentiate Familiar’s different product lines, we’d like to compare this lifespan data between our different packages. Our next step up from the Vein Pack is the Artery Pack. Let’s get the lifespans of Artery Pack subscribers using the same method, called with `package='artery'` instead. Save the value into a variable called `artery_pack_lifespans`."
   ]
  },
  {
   "cell_type": "code",
   "execution_count": 7,
   "id": "ac54619545b0ff41",
   "metadata": {
    "ExecuteTime": {
     "end_time": "2023-12-24T18:23:18.723659Z",
     "start_time": "2023-12-24T18:23:18.683981Z"
    },
    "collapsed": false
   },
   "outputs": [],
   "source": [
    "artery_pack_lifespans = familiar.lifespans(package='artery')\n",
    "artery_pack_lifespans;"
   ]
  },
  {
   "cell_type": "markdown",
   "id": "366ccd4da865ec72",
   "metadata": {
    "collapsed": false
   },
   "source": [
    "**8.**\n",
    "Now we want to show that the subscribers to the Artery Pack experience a significant improvement even beyond what a Vein Pack subscriber’s benefits. Import the 2-Sample T-Test and we’ll use that to see if there is a significant difference between the two subscriptions."
   ]
  },
  {
   "cell_type": "code",
   "execution_count": 8,
   "id": "e87a599c01bbd64e",
   "metadata": {
    "ExecuteTime": {
     "end_time": "2023-12-24T18:23:18.723959Z",
     "start_time": "2023-12-24T18:23:18.686532Z"
    },
    "collapsed": false
   },
   "outputs": [],
   "source": [
    "from scipy.stats import ttest_ind"
   ]
  },
  {
   "cell_type": "markdown",
   "id": "5c880c39aa2844df",
   "metadata": {
    "collapsed": false
   },
   "source": [
    "**9.**\n",
    "Okay let’s run the 2-Sample test! Save the results into a variable named `package_comparison_results`."
   ]
  },
  {
   "cell_type": "code",
   "execution_count": 9,
   "id": "67b7fc14fc71a130",
   "metadata": {
    "ExecuteTime": {
     "end_time": "2023-12-24T18:23:18.734454Z",
     "start_time": "2023-12-24T18:23:18.696323Z"
    },
    "collapsed": false
   },
   "outputs": [
    {
     "data": {
      "text/plain": [
       "TtestResult(statistic=1.9722687784695117, pvalue=0.05588883079070819, df=38.0)"
      ]
     },
     "execution_count": 9,
     "metadata": {},
     "output_type": "execute_result"
    }
   ],
   "source": [
    "package_comparison_results = ttest_ind(vein_pack_lifespans, artery_pack_lifespans)\n",
    "package_comparison_results"
   ]
  },
  {
   "cell_type": "markdown",
   "id": "7a62b0ed86d54de6",
   "metadata": {
    "collapsed": false
   },
   "source": [
    "**10.**\n",
    "Let’s see the results! If the p-value from our experiment is less than 0.05, the results are significant and we should print out “the Artery Package guarantees even stronger results!”. Otherwise we should print out “the Artery Package is also a great product!”"
   ]
  },
  {
   "cell_type": "code",
   "execution_count": 10,
   "id": "7086f49f78986c5d",
   "metadata": {
    "ExecuteTime": {
     "end_time": "2023-12-24T18:23:18.735328Z",
     "start_time": "2023-12-24T18:23:18.703558Z"
    },
    "collapsed": false
   },
   "outputs": [
    {
     "name": "stdout",
     "output_type": "stream",
     "text": [
      "the Artery Package is also a great product!\n"
     ]
    }
   ],
   "source": [
    "# print messages according to the p-value result.    # Threshold set to 5%\n",
    "if package_comparison_results[1] < 0.05:\n",
    "  print(\"The Artery Package guarantees even stronger results!\")\n",
    "else:\n",
    "  print(\"the Artery Package is also a great product!\")"
   ]
  },
  {
   "cell_type": "markdown",
   "id": "6c52bac7cdce1a16",
   "metadata": {
    "collapsed": false
   },
   "source": [
    "**11.**\n",
    "Well, shame that it’s not significantly better, but maybe there’s a way to demonstrate the benefits of the Artery Package yet.\n",
    "\n",
    "##### Since the p-value was greater than 0.05, we can’t say that there is a significant difference between the life expectancy of the two packages."
   ]
  },
  {
   "cell_type": "markdown",
   "id": "eb11a450e81d7472",
   "metadata": {
    "collapsed": false
   },
   "source": [
    "### Benefitting Everyone: A Familiar Problem\n",
    "**12.**\n",
    "If your lifespan isn’t significantly increased by signing up for the Artery Package, maybe we can make some other claim about the benefits of the package. To that end, we’ve sent out a survey collecting the iron counts for our subscribers, and filtered that data into “low”, “normal”, and “high”.\n",
    "\n",
    "We received 200 responses from our Vein Package subscribers. 70% of them had low iron counts, 20% had normal, and 10% of them have high iron counts.\n",
    "\n",
    "We were only able to get 145 responses from our Artery Package subscribers, but only 20% of them had low iron counts. 60% had normal, and 20% have high iron counts."
   ]
  },
  {
   "cell_type": "markdown",
   "id": "2cab941cce6ca7c",
   "metadata": {
    "collapsed": false
   },
   "source": [
    "**13.**\n",
    "The data from the survey has been collected and formatted into a contingency table. You can access that data from the function `familiar.iron_counts_for_package()`. Save the survey results into a variable called `iron_contingency_table`."
   ]
  },
  {
   "cell_type": "code",
   "execution_count": 11,
   "id": "90efc400842b788c",
   "metadata": {
    "ExecuteTime": {
     "end_time": "2023-12-24T18:23:18.735879Z",
     "start_time": "2023-12-24T18:23:18.711246Z"
    },
    "collapsed": false
   },
   "outputs": [
    {
     "data": {
      "text/plain": [
       "[[140, 29], [40, 87], [20, 29]]"
      ]
     },
     "execution_count": 11,
     "metadata": {},
     "output_type": "execute_result"
    }
   ],
   "source": [
    "# import contingency data\n",
    "iron_contingency_table = familiar.iron_counts_for_package()\n",
    "iron_contingency_table"
   ]
  },
  {
   "cell_type": "markdown",
   "id": "64ff9e89e456394",
   "metadata": {
    "collapsed": false
   },
   "source": [
    "**14.**\n",
    "We want to be able to tell if what seems like a higher number of our Artery Package subscribers is a significant difference from what was reported by Vein Package subscribers. Import the Chi-Squared test so that we can find out."
   ]
  },
  {
   "cell_type": "code",
   "execution_count": 12,
   "id": "aedcbf738f5c0b0f",
   "metadata": {
    "ExecuteTime": {
     "end_time": "2023-12-24T18:23:18.736282Z",
     "start_time": "2023-12-24T18:23:18.718950Z"
    },
    "collapsed": false
   },
   "outputs": [],
   "source": [
    "from scipy.stats import chi2_contingency"
   ]
  },
  {
   "cell_type": "markdown",
   "id": "27b268161d9d356",
   "metadata": {
    "collapsed": false
   },
   "source": [
    "**15.**\n",
    "Run the Chi-Squared test on the `iron_contingency_table` and save the p-value in a variable called `iron_pvalue`. Remember that this test returns four things: the test statistic, the p-value, the number of degrees of freedom, and the expected frequencies."
   ]
  },
  {
   "cell_type": "code",
   "execution_count": 13,
   "id": "e98ab28daa7cec95",
   "metadata": {
    "ExecuteTime": {
     "end_time": "2023-12-24T18:23:18.738136Z",
     "start_time": "2023-12-24T18:23:18.726356Z"
    },
    "collapsed": false
   },
   "outputs": [
    {
     "data": {
      "text/plain": [
       "2.9227133549883315e-19"
      ]
     },
     "execution_count": 13,
     "metadata": {},
     "output_type": "execute_result"
    }
   ],
   "source": [
    "# Chi-Squared Test, iron contingency table\n",
    "chi2_tstat, iron_pvalue, dof, expected_freq = chi2_contingency(iron_contingency_table)\n",
    "iron_pvalue"
   ]
  },
  {
   "cell_type": "markdown",
   "id": "6e1c968ba6e759a2",
   "metadata": {
    "collapsed": false
   },
   "source": [
    "**16.**\n",
    "Here’s the big moment: if the `iron_pvalue` is less than `0.05`, print out “The Artery Package Is Proven To Make You Healthier!” otherwise we’ll have to use our other marketing copy: “While We Can’t Say The Artery Package Will Help You, I Bet It’s Nice!”"
   ]
  },
  {
   "cell_type": "code",
   "execution_count": 14,
   "id": "7cb538d9693e1f1",
   "metadata": {
    "ExecuteTime": {
     "end_time": "2023-12-24T18:23:18.830153Z",
     "start_time": "2023-12-24T18:23:18.739235Z"
    },
    "collapsed": false
   },
   "outputs": [
    {
     "name": "stdout",
     "output_type": "stream",
     "text": [
      "The Artery Package Is Proven To Make You Healthier!\n"
     ]
    }
   ],
   "source": [
    "# print messages according to the p-value result.    # Threshold set to 5%\n",
    "if vein_pack_test[1] < 0.05:\n",
    "  print(\"The Artery Package Is Proven To Make You Healthier!\")\n",
    "else:\n",
    "  print(\"While We Can't Say The Artery Package Will Help You, I Bet It's Nice!\")"
   ]
  },
  {
   "cell_type": "markdown",
   "id": "8957532861af8588",
   "metadata": {
    "collapsed": false
   },
   "source": [
    "**17.**\n",
    "Fantastic! With proven benefits to both of our product lines, we can definitely ramp up our marketing and sales. Look out for a `Familiar` face in drug stores everywhere."
   ]
  }
 ],
 "metadata": {
  "kernelspec": {
   "display_name": "Python 3",
   "language": "python",
   "name": "python3"
  },
  "language_info": {
   "codemirror_mode": {
    "name": "ipython",
    "version": 3
   },
   "file_extension": ".py",
   "mimetype": "text/x-python",
   "name": "python",
   "nbconvert_exporter": "python",
   "pygments_lexer": "ipython3",
   "version": "3.12.2"
  }
 },
 "nbformat": 4,
 "nbformat_minor": 5
}
